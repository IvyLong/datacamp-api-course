{
 "cells": [
  {
   "cell_type": "markdown",
   "id": "eb0628fe",
   "metadata": {},
   "source": [
    "# Python Requests Library Tutorial\n",
    "\n",
    "Welcome to this comprehensive tutorial on the Python `requests` library! This notebook will teach you everything you need to know about making HTTP requests in Python.\n",
    "\n",
    "## What is the Requests Library?\n",
    "\n",
    "The `requests` library is a simple, elegant HTTP library for Python. It allows you to send HTTP requests easily and handle responses gracefully. It's often called \"HTTP for Humans\" because of its intuitive API.\n",
    "\n",
    "### Why Use Requests?\n",
    "- Simple and intuitive API\n",
    "- Automatic JSON decoding\n",
    "- Built-in connection pooling\n",
    "- Automatic decompression\n",
    "- Unicode support\n",
    "- Cookie persistence"
   ]
  },
  {
   "cell_type": "markdown",
   "id": "72273c37",
   "metadata": {},
   "source": [
    "## 1. Installation and Import\n",
    "\n",
    "First, let's import the requests library and other useful modules we'll need."
   ]
  },
  {
   "cell_type": "code",
   "execution_count": 1,
   "id": "dbab73b3",
   "metadata": {},
   "outputs": [
    {
     "name": "stdout",
     "output_type": "stream",
     "text": [
      "✅ Requests library imported successfully!\n",
      "Requests version: 2.32.5\n"
     ]
    }
   ],
   "source": [
    "import requests\n",
    "import json\n",
    "import os\n",
    "from pprint import pprint\n",
    "\n",
    "print(\"✅ Requests library imported successfully!\")\n",
    "print(f\"Requests version: {requests.__version__}\")"
   ]
  },
  {
   "cell_type": "markdown",
   "id": "903cb1e3",
   "metadata": {},
   "source": [
    "## 2. Basic GET Requests\n",
    "\n",
    "The most common HTTP method is GET, used to retrieve data from a server. Let's start with a simple example using a public API."
   ]
  },
  {
   "cell_type": "code",
   "execution_count": null,
   "id": "4fe7d244",
   "metadata": {},
   "outputs": [
    {
     "name": "stdout",
     "output_type": "stream",
     "text": [
      "Status Code: 200\n",
      "Response Headers: {'Date': 'Mon, 29 Sep 2025 11:15:22 GMT', 'Content-Type': 'application/json', 'Content-Length': '306', 'Connection': 'keep-alive', 'Server': 'gunicorn/19.9.0', 'Access-Control-Allow-Origin': '*', 'Access-Control-Allow-Credentials': 'true'}\n",
      "Response Content (first 200 chars): {\n",
      "  \"args\": {}, \n",
      "  \"headers\": {\n",
      "    \"Accept\": \"*/*\", \n",
      "    \"Accept-Encoding\": \"gzip, deflate\", \n",
      "    \"Host\": \"httpbin.org\", \n",
      "    \"User-Agent\": \"python-requests/2.32.5\", \n",
      "    \"X-Amzn-Trace-Id\": \"Root=1-6...\n"
     ]
    }
   ],
   "source": [
    "# Simple GET request\n",
    "response = requests.get('https://httpbin.org/get')\n",
    "\n",
    "print(f\"Status Code: {response.status_code}\")\n",
    "print(f\"Response Headers: {dict(response.headers)}\")\n",
    "print(f\"Response Content (first 200 chars): {response.text[:200]}...\")"
   ]
  },
  {
   "cell_type": "markdown",
   "id": "dab3ebd4",
   "metadata": {},
   "source": [
    "### Understanding Status Codes\n",
    "\n",
    "HTTP status codes tell us about the result of our request:\n",
    "- **200**: Success\n",
    "- **404**: Not Found\n",
    "- **401**: Unauthorized\n",
    "- **500**: Server Error"
   ]
  },
  {
   "cell_type": "code",
   "execution_count": 3,
   "id": "a2357d23",
   "metadata": {},
   "outputs": [
    {
     "name": "stdout",
     "output_type": "stream",
     "text": [
      "✅ Request successful!\n",
      "✅ Response is OK (status 200-299)\n"
     ]
    }
   ],
   "source": [
    "# Check if request was successful\n",
    "if response.status_code == 200:\n",
    "    print(\"✅ Request successful!\")\n",
    "else:\n",
    "    print(f\"❌ Request failed with status: {response.status_code}\")\n",
    "\n",
    "# Alternative way to check success\n",
    "if response.ok:\n",
    "    print(\"✅ Response is OK (status 200-299)\")"
   ]
  },
  {
   "cell_type": "markdown",
   "id": "55f33483",
   "metadata": {},
   "source": [
    "## 3. Working with JSON Data\n",
    "\n",
    "Most modern APIs return data in JSON format. The requests library makes it easy to work with JSON."
   ]
  },
  {
   "cell_type": "code",
   "execution_count": 4,
   "id": "01613154",
   "metadata": {},
   "outputs": [
    {
     "name": "stdout",
     "output_type": "stream",
     "text": [
      "📄 Post Data:\n",
      "Title: sunt aut facere repellat provident occaecati excepturi optio reprehenderit\n",
      "Body: quia et suscipit\n",
      "suscipit recusandae consequuntur expedita et cum\n",
      "reprehenderit molestiae ut ut quas...\n",
      "User ID: 1\n"
     ]
    }
   ],
   "source": [
    "# Get JSON data from an API\n",
    "response = requests.get('https://jsonplaceholder.typicode.com/posts/1')\n",
    "\n",
    "if response.ok:\n",
    "    # Parse JSON response\n",
    "    # data = response.json()\n",
    "    data = json.loads(response.text)\n",
    "    \n",
    "    print(\"📄 Post Data:\")\n",
    "    print(f\"Title: {data['title']}\")\n",
    "    print(f\"Body: {data['body'][:100]}...\")\n",
    "    print(f\"User ID: {data['userId']}\")\n",
    "else:\n",
    "    print(f\"Failed to get data: {response.status_code}\")"
   ]
  },
  {
   "cell_type": "markdown",
   "id": "49008e2d",
   "metadata": {},
   "source": [
    "## 4. GET Requests with Parameters\n",
    "\n",
    "Often you need to send parameters with your GET requests. You can do this in the URL or use the `params` parameter."
   ]
  },
  {
   "cell_type": "code",
   "execution_count": 6,
   "id": "42f410c8",
   "metadata": {},
   "outputs": [
    {
     "name": "stdout",
     "output_type": "stream",
     "text": [
      "Method 2 Result:\n",
      "<Response [200]>\n",
      "URL with parameters: https://httpbin.org/get?name=Python&type=tutorial&level=beginner\n",
      "Parameters received: {'level': 'beginner', 'name': 'Python', 'type': 'tutorial'}\n"
     ]
    }
   ],
   "source": [
    "# Method 1: Parameters in URL\n",
    "response1 = requests.get('https://httpbin.org/get?name=Python&type=tutorial')\n",
    "\n",
    "# Method 2: Using params parameter (recommended)\n",
    "params = {\n",
    "    'name': 'Python',\n",
    "    'type': 'tutorial',\n",
    "    'level': 'beginner'\n",
    "}\n",
    "response2 = requests.get('https://httpbin.org/get', params=params)\n",
    "\n",
    "print(\"Method 2 Result:\")\n",
    "print(response2)\n",
    "data = response2.json()\n",
    "print(f\"URL with parameters: {data['url']}\")\n",
    "print(f\"Parameters received: {data['args']}\")"
   ]
  },
  {
   "cell_type": "markdown",
   "id": "26417004",
   "metadata": {},
   "source": [
    "## 5. Adding Headers\n",
    "\n",
    "Headers provide additional information about the request. Common headers include authentication tokens, content types, and user agents."
   ]
  },
  {
   "cell_type": "code",
   "execution_count": null,
   "id": "2a140f09",
   "metadata": {},
   "outputs": [],
   "source": [
    "# Adding custom headers\n",
    "headers = {\n",
    "    'User-Agent': 'Python-Requests-Tutorial/1.0',\n",
    "    'Accept': 'application/json',\n",
    "    'Custom-Header': 'Learning-Requests'\n",
    "}\n",
    "\n",
    "response = requests.get('https://httpbin.org/headers', headers=headers)\n",
    "\n",
    "if response.ok:\n",
    "    data = response.json()\n",
    "    print(\"📋 Headers sent to server:\")\n",
    "    pprint(data['headers'])"
   ]
  },
  {
   "cell_type": "markdown",
   "id": "354ba65b",
   "metadata": {},
   "source": [
    "## 6. POST Requests\n",
    "\n",
    "POST requests are used to send data to a server, typically to create or update resources."
   ]
  },
  {
   "cell_type": "code",
   "execution_count": null,
   "id": "2601c7af",
   "metadata": {},
   "outputs": [],
   "source": [
    "# POST request with form data\n",
    "form_data = {\n",
    "    'title': 'My New Post',\n",
    "    'body': 'This is the content of my post',\n",
    "    'userId': 1\n",
    "}\n",
    "\n",
    "response = requests.post('https://jsonplaceholder.typicode.com/posts', data=form_data)\n",
    "\n",
    "if response.ok:\n",
    "    result = response.json()\n",
    "    print(\"✅ Post created successfully!\")\n",
    "    print(f\"New post ID: {result['id']}\")\n",
    "    print(f\"Title: {result['title']}\")\n",
    "else:\n",
    "    print(f\"❌ Failed to create post: {response.status_code}\")"
   ]
  },
  {
   "cell_type": "markdown",
   "id": "db582c62",
   "metadata": {},
   "source": [
    "## 7. POST Requests with JSON Data\n",
    "\n",
    "When working with APIs that expect JSON data, use the `json` parameter instead of `data`."
   ]
  },
  {
   "cell_type": "code",
   "execution_count": null,
   "id": "0ea89db3",
   "metadata": {},
   "outputs": [],
   "source": [
    "# POST request with JSON data\n",
    "json_data = {\n",
    "    'title': 'Learning Requests',\n",
    "    'body': 'This post was created using Python requests with JSON data',\n",
    "    'userId': 2\n",
    "}\n",
    "\n",
    "# Method 1: Using json parameter (automatically sets Content-Type)\n",
    "response = requests.post('https://jsonplaceholder.typicode.com/posts', json=json_data)\n",
    "\n",
    "# Method 2: Manual approach\n",
    "# headers = {'Content-Type': 'application/json'}\n",
    "# response = requests.post('https://jsonplaceholder.typicode.com/posts', \n",
    "#                         data=json.dumps(json_data), headers=headers)\n",
    "\n",
    "if response.ok:\n",
    "    result = response.json()\n",
    "    print(\"✅ JSON post created successfully!\")\n",
    "    print(f\"Response: {result}\")\n",
    "else:\n",
    "    print(f\"❌ Failed: {response.status_code}\")"
   ]
  },
  {
   "cell_type": "markdown",
   "id": "e0ecd3f5",
   "metadata": {},
   "source": [
    "## 8. Error Handling\n",
    "\n",
    "It's important to handle errors gracefully when making HTTP requests."
   ]
  },
  {
   "cell_type": "code",
   "execution_count": null,
   "id": "a3ae977a",
   "metadata": {},
   "outputs": [],
   "source": [
    "import requests.exceptions\n",
    "\n",
    "def safe_request(url, method='GET', **kwargs):\n",
    "    \"\"\"Make a safe HTTP request with error handling\"\"\"\n",
    "    try:\n",
    "        if method.upper() == 'GET':\n",
    "            response = requests.get(url, **kwargs)\n",
    "        elif method.upper() == 'POST':\n",
    "            response = requests.post(url, **kwargs)\n",
    "        \n",
    "        # Raise an exception for bad status codes\n",
    "        response.raise_for_status()\n",
    "        \n",
    "        return response\n",
    "        \n",
    "    except requests.exceptions.ConnectionError:\n",
    "        print(\"❌ Connection error - check your internet connection\")\n",
    "    except requests.exceptions.Timeout:\n",
    "        print(\"❌ Request timed out\")\n",
    "    except requests.exceptions.HTTPError as e:\n",
    "        print(f\"❌ HTTP error occurred: {e}\")\n",
    "    except requests.exceptions.RequestException as e:\n",
    "        print(f\"❌ An error occurred: {e}\")\n",
    "    \n",
    "    return None\n",
    "\n",
    "# Test the safe request function\n",
    "print(\"Testing with valid URL:\")\n",
    "response = safe_request('https://httpbin.org/get')\n",
    "if response:\n",
    "    print(f\"✅ Success: {response.status_code}\")\n",
    "\n",
    "print(\"\\nTesting with invalid URL:\")\n",
    "response = safe_request('https://httpbin.org/status/404')\n",
    "if not response:\n",
    "    print(\"Request handled gracefully\")"
   ]
  },
  {
   "cell_type": "markdown",
   "id": "f8efaa3e",
   "metadata": {},
   "source": [
    "## 9. Working with Authentication\n",
    "\n",
    "Many APIs require authentication. Here are common authentication methods with requests."
   ]
  },
  {
   "cell_type": "code",
   "execution_count": null,
   "id": "5d0a23f2",
   "metadata": {},
   "outputs": [],
   "source": [
    "# Method 1: Basic Authentication\n",
    "# response = requests.get('https://httpbin.org/basic-auth/user/pass', \n",
    "#                        auth=('user', 'pass'))\n",
    "\n",
    "# Method 2: Bearer Token (most common for APIs)\n",
    "headers = {\n",
    "    'Authorization': 'Bearer your-token-here',\n",
    "    'Content-Type': 'application/json'\n",
    "}\n",
    "\n",
    "# Method 3: API Key in headers\n",
    "headers_with_api_key = {\n",
    "    'X-API-Key': 'your-api-key-here',\n",
    "    'Content-Type': 'application/json'\n",
    "}\n",
    "\n",
    "# Method 4: API Key in URL parameters\n",
    "params_with_key = {\n",
    "    'api_key': 'your-api-key-here',\n",
    "    'other_param': 'value'\n",
    "}\n",
    "\n",
    "print(\"Authentication methods demonstrated above.\")\n",
    "print(\"Replace 'your-token-here' and 'your-api-key-here' with actual values.\")"
   ]
  },
  {
   "cell_type": "markdown",
   "id": "4797e6bd",
   "metadata": {},
   "source": [
    "## 10. Session Objects\n",
    "\n",
    "Session objects allow you to persist certain parameters across requests, like cookies and headers."
   ]
  },
  {
   "cell_type": "code",
   "execution_count": null,
   "id": "0bf955f0",
   "metadata": {},
   "outputs": [],
   "source": [
    "# Create a session\n",
    "session = requests.Session()\n",
    "\n",
    "# Set default headers for all requests in this session\n",
    "session.headers.update({\n",
    "    'User-Agent': 'Python-Tutorial-Session/1.0',\n",
    "    'Accept': 'application/json'\n",
    "})\n",
    "\n",
    "# Make requests using the session\n",
    "response1 = session.get('https://httpbin.org/headers')\n",
    "response2 = session.get('https://httpbin.org/get')\n",
    "\n",
    "print(\"Session request 1:\")\n",
    "if response1.ok:\n",
    "    data = response1.json()\n",
    "    print(f\"User-Agent sent: {data['headers'].get('User-Agent')}\")\n",
    "\n",
    "print(\"\\nSession request 2:\")\n",
    "if response2.ok:\n",
    "    data = response2.json()\n",
    "    print(f\"User-Agent sent: {data['headers'].get('User-Agent')}\")\n",
    "\n",
    "# Close the session when done\n",
    "session.close()"
   ]
  },
  {
   "cell_type": "markdown",
   "id": "5e8b72b0",
   "metadata": {},
   "source": [
    "## 11. Real-World Example: Working with a Public API\n",
    "\n",
    "Let's put it all together with a practical example using a public API."
   ]
  },
  {
   "cell_type": "code",
   "execution_count": null,
   "id": "acf82d3e",
   "metadata": {},
   "outputs": [],
   "source": [
    "def get_random_quote():\n",
    "    \"\"\"Fetch a random quote from a public API\"\"\"\n",
    "    url = \"https://api.quotable.io/random\"\n",
    "    \n",
    "    try:\n",
    "        response = requests.get(url, timeout=5)\n",
    "        response.raise_for_status()\n",
    "        \n",
    "        quote_data = response.json()\n",
    "        return {\n",
    "            'quote': quote_data['content'],\n",
    "            'author': quote_data['author'],\n",
    "            'tags': quote_data['tags']\n",
    "        }\n",
    "    except requests.exceptions.RequestException as e:\n",
    "        print(f\"Error fetching quote: {e}\")\n",
    "        return None\n",
    "\n",
    "# Get a random quote\n",
    "quote = get_random_quote()\n",
    "if quote:\n",
    "    print(\"🎯 Random Quote:\")\n",
    "    print(f\"\\n\\\"{quote['quote']}\\\"\")\n",
    "    print(f\"— {quote['author']}\")\n",
    "    print(f\"Tags: {', '.join(quote['tags'])}\")\n",
    "else:\n",
    "    print(\"Could not fetch a quote at this time.\")"
   ]
  },
  {
   "cell_type": "markdown",
   "id": "cd57eb69",
   "metadata": {},
   "source": [
    "## 12. Best Practices Summary\n",
    "\n",
    "Here are the key best practices when using the requests library:"
   ]
  },
  {
   "cell_type": "code",
   "execution_count": null,
   "id": "bd9aaa30",
   "metadata": {},
   "outputs": [],
   "source": [
    "# Best Practices Demonstration\n",
    "\n",
    "def make_api_request(url, method='GET', **kwargs):\n",
    "    \"\"\"Example of a well-structured API request function\"\"\"\n",
    "    \n",
    "    # 1. Set a reasonable timeout\n",
    "    kwargs.setdefault('timeout', 10)\n",
    "    \n",
    "    # 2. Add user agent\n",
    "    headers = kwargs.get('headers', {})\n",
    "    headers.setdefault('User-Agent', 'Python-App/1.0')\n",
    "    kwargs['headers'] = headers\n",
    "    \n",
    "    try:\n",
    "        # 3. Make the request\n",
    "        if method.upper() == 'GET':\n",
    "            response = requests.get(url, **kwargs)\n",
    "        elif method.upper() == 'POST':\n",
    "            response = requests.post(url, **kwargs)\n",
    "        \n",
    "        # 4. Check for HTTP errors\n",
    "        response.raise_for_status()\n",
    "        \n",
    "        # 5. Return structured response\n",
    "        return {\n",
    "            'success': True,\n",
    "            'data': response.json() if response.content else None,\n",
    "            'status_code': response.status_code\n",
    "        }\n",
    "        \n",
    "    except requests.exceptions.RequestException as e:\n",
    "        # 6. Handle errors gracefully\n",
    "        return {\n",
    "            'success': False,\n",
    "            'error': str(e),\n",
    "            'status_code': getattr(e.response, 'status_code', None) if hasattr(e, 'response') else None\n",
    "        }\n",
    "\n",
    "# Test the function\n",
    "result = make_api_request('https://httpbin.org/get')\n",
    "print(f\"Request successful: {result['success']}\")\n",
    "print(f\"Status code: {result['status_code']}\")\n",
    "if result['success']:\n",
    "    print(\"✅ API request completed successfully!\")\n",
    "else:\n",
    "    print(f\"❌ Error: {result['error']}\")"
   ]
  },
  {
   "cell_type": "markdown",
   "id": "a012a52c",
   "metadata": {},
   "source": [
    "## 🎯 Key Takeaways\n",
    "\n",
    "1. **Import requests**: `import requests`\n",
    "2. **GET requests**: `requests.get(url)`\n",
    "3. **POST requests**: `requests.post(url, json=data)` or `requests.post(url, data=form_data)`\n",
    "4. **Check status**: `response.status_code` or `response.ok`\n",
    "5. **Parse JSON**: `response.json()`\n",
    "6. **Add headers**: `requests.get(url, headers=headers_dict)`\n",
    "7. **Add parameters**: `requests.get(url, params=params_dict)`\n",
    "8. **Handle errors**: Use try/except with `requests.exceptions`\n",
    "9. **Set timeouts**: Always use `timeout` parameter\n",
    "10. **Use sessions**: For multiple requests with shared configuration\n",
    "\n",
    "## 📚 Additional Resources\n",
    "\n",
    "- [Official Requests Documentation](https://docs.python-requests.org/)\n",
    "- [HTTP Status Codes Reference](https://httpstatuses.com/)\n",
    "- [JSONPlaceholder API for Testing](https://jsonplaceholder.typicode.com/)\n",
    "- [HTTPBin for Testing HTTP Requests](https://httpbin.org/)\n",
    "\n",
    "## 🚀 Next Steps\n",
    "\n",
    "Try modifying the examples above to:\n",
    "1. Call different APIs\n",
    "2. Handle different types of authentication\n",
    "3. Parse different response formats\n",
    "4. Build your own API client functions\n",
    "\n",
    "Happy coding! 🐍"
   ]
  }
 ],
 "metadata": {
  "kernelspec": {
   "display_name": ".venv",
   "language": "python",
   "name": "python3"
  },
  "language_info": {
   "codemirror_mode": {
    "name": "ipython",
    "version": 3
   },
   "file_extension": ".py",
   "mimetype": "text/x-python",
   "name": "python",
   "nbconvert_exporter": "python",
   "pygments_lexer": "ipython3",
   "version": "3.13.7"
  }
 },
 "nbformat": 4,
 "nbformat_minor": 5
}
